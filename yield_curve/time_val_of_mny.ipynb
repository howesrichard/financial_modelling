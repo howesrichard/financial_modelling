{
 "cells": [
  {
   "cell_type": "markdown",
   "metadata": {},
   "source": [
    "# Continuously compounded interest rates\n",
    "\n",
    "10% Annual rate corresponds to 9.531% continuously compounded rate"
   ]
  },
  {
   "cell_type": "code",
   "execution_count": 2,
   "metadata": {},
   "outputs": [
    {
     "name": "stdout",
     "output_type": "stream",
     "text": [
      "Continuous componding rate:  0.09531017980432493\n",
      "The AtMat of 9.531% continuously compounded over a year is:  1.1\n",
      "The AtMat of 9.531% continuously compounded over 2 years is:  1.2100000000000002\n",
      "Of course this is the same as the AtMat of 10% compounded twice:  1.2100000000000002\n",
      "The AtMat of 9.531% continuously compounded over 0.5 years is:  1.0488088481701516\n"
     ]
    }
   ],
   "source": [
    "import math\n",
    "\n",
    "# 0.09531017980432493 is the continuous compounding rate\n",
    "#   corresponding to a 10% annual rate\n",
    "print (\"Continuous componding rate:  \" + \n",
    "       str(math.log(1.1))) \n",
    "\n",
    "# 1.1 is the value of 1 continuously compounded at 0.09531017980432493 for 1 year\n",
    "print (\"The AtMat of 9.531% continuously compounded over a year is:  \" +\n",
    "       str(math.exp(.09531017980432493)))\n",
    "\n",
    "# lets calculate the AtMat of 9.531% continuously compounded over 2 years\n",
    "print (\"The AtMat of 9.531% continuously compounded over 2 years is:  \" +\n",
    "       str(math.exp(.09531017980432493*2)))\n",
    "print (\"Of course this is the same as the AtMat of 10% compounded twice:  \" +\n",
    "       str(1.1*1.1))\n",
    "\n",
    "# more generally, the AtMat of 9.531% continuously compounded over n years is:\n",
    "n = .5\n",
    "print (\"The AtMat of 9.531% continuously compounded over \" + str(n) + \" years is:  \" +\n",
    "       str(math.exp(.09531017980432493*n)))\n"
   ]
  },
  {
   "cell_type": "markdown",
   "metadata": {},
   "source": [
    "Notice that you can simply multiply the continuously compounded rate by time"
   ]
  }
 ],
 "metadata": {
  "kernelspec": {
   "display_name": "Python 3",
   "language": "python",
   "name": "python3"
  },
  "language_info": {
   "codemirror_mode": {
    "name": "ipython",
    "version": 3
   },
   "file_extension": ".py",
   "mimetype": "text/x-python",
   "name": "python",
   "nbconvert_exporter": "python",
   "pygments_lexer": "ipython3",
   "version": "3.12.1"
  }
 },
 "nbformat": 4,
 "nbformat_minor": 2
}
