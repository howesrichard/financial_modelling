{
 "cells": [
  {
   "cell_type": "code",
   "execution_count": 1,
   "metadata": {},
   "outputs": [
    {
     "name": "stdout",
     "output_type": "stream",
     "text": [
      "0.01\n",
      "0.9900990099009901\n",
      "0.9611687812379854\n",
      "0.9151416593531596\n",
      "0.8548041910297257\n",
      "None\n",
      "None\n"
     ]
    }
   ],
   "source": [
    "import zero_curve as zCurve\n",
    "\n",
    "# create an instance of the ZeroCurve class\n",
    "zc = zCurve.ZeroCurve()\n",
    "\n",
    "# add some zero rates to the curve\n",
    "zc.add_zero_rate(1, 0.01)\n",
    "zc.add_zero_rate(2, 0.02)\n",
    "zc.add_zero_rate(3, 0.03)\n",
    "zc.add_zero_rate(4, 0.04)\n",
    "\n",
    "# get the zero rates for some maturities\n",
    "print(zc.get_zero_rate(1)) # 0.01\n",
    "\n",
    "# get the discount factors for some maturities\n",
    "print(zc.get_discount_factor(1)) # 0.9900990099009901\n",
    "print(zc.get_discount_factor(2)) # 0.9704455958549223\n",
    "print(zc.get_discount_factor(3)) # 0.9414801498652351\n",
    "print(zc.get_discount_factor(4)) # 0.9038877322498615\n",
    "\n",
    "# get the zero rate for a maturity that is not in the curve\n",
    "print(zc.get_zero_rate(5)) # None\n",
    "print(zc.get_discount_factor(5)) # None\n",
    "\n"
   ]
  }
 ],
 "metadata": {
  "kernelspec": {
   "display_name": "Python 3",
   "language": "python",
   "name": "python3"
  },
  "language_info": {
   "codemirror_mode": {
    "name": "ipython",
    "version": 3
   },
   "file_extension": ".py",
   "mimetype": "text/x-python",
   "name": "python",
   "nbconvert_exporter": "python",
   "pygments_lexer": "ipython3",
   "version": "3.12.1"
  }
 },
 "nbformat": 4,
 "nbformat_minor": 2
}
