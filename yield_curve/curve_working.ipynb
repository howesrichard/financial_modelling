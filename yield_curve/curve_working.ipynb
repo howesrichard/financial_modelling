{
 "cells": [
  {
   "cell_type": "code",
   "execution_count": 50,
   "metadata": {},
   "outputs": [],
   "source": [
    "import math\n",
    "import numpy as np\n",
    "import importlib"
   ]
  },
  {
   "cell_type": "code",
   "execution_count": 51,
   "metadata": {},
   "outputs": [
    {
     "name": "stdout",
     "output_type": "stream",
     "text": [
      "0.01\n",
      "0.9900498337491681\n",
      "0.9607894391523232\n",
      "0.9139311852712282\n",
      "0.8521437889662113\n",
      "Zero rate for 1.5 is :0.016666666666666535\n",
      "AtMat for 1.5 is :1.0253151205244286\n",
      "Discount factor for 1.5 is :0.9753099120283327\n"
     ]
    }
   ],
   "source": [
    "import zero_curve as zCurve\n",
    "importlib.reload(zCurve)\n",
    "\n",
    "# create an instance of the ZeroCurve class\n",
    "zc = zCurve.ZeroCurve()\n",
    "\n",
    "# add some zero rates to the curve\n",
    "zc.add_zero_rate(1, 0.01)\n",
    "zc.add_zero_rate(2, 0.02)\n",
    "zc.add_zero_rate(3, 0.03)\n",
    "zc.add_zero_rate(4, 0.04)\n",
    "\n",
    "# get the zero rates for some maturities\n",
    "print(zc.get_zero_rate(1)) # 0.01\n",
    "\n",
    "# get the discount factors for some maturities\n",
    "print(zc.get_discount_factor(1)) # 0.9900990099009901\n",
    "print(zc.get_discount_factor(2)) # 0.9704455958549223\n",
    "print(zc.get_discount_factor(3)) # 0.9414801498652351\n",
    "print(zc.get_discount_factor(4)) # 0.9038877322498615\n",
    "\n",
    "maturity_lookup = 1.5\n",
    "# get the zero rate for a maturity that is not in the curve\n",
    "print(\"Zero rate for \" + str(maturity_lookup) + \" is :\" + \n",
    "      str(zc.get_zero_rate(maturity_lookup))) # None\n",
    "# Below will exponentially interpolate the AtMat\n",
    "print(\"AtMat for \" + str(maturity_lookup) + \" is :\" + \n",
    "      str(zc.get_AtMat(maturity_lookup)))\n",
    "# Below will exponentially interpolate the discount factor\n",
    "print(\"Discount factor for \" + str(maturity_lookup) + \" is :\" + \n",
    "      str(zc.get_discount_factor(maturity_lookup))) \n"
   ]
  },
  {
   "cell_type": "code",
   "execution_count": 52,
   "metadata": {},
   "outputs": [
    {
     "name": "stdout",
     "output_type": "stream",
     "text": [
      "Cont comp rate is:  0.09531017980432474\n",
      "the AtMat at 1.5 is 1.1536897329871667\n"
     ]
    }
   ],
   "source": [
    "# exponential interpolation code block\n",
    "\n",
    "x1 = 1\n",
    "x2 = 2\n",
    "y1 = 1.1\n",
    "y2 = 1.21\n",
    "x = 1.5\n",
    "\n",
    "# calculate continuous compounding interest rate between y1 and y2\n",
    "rate = math.log(y2 / y1) / (x2 - x1)\n",
    "print(\"Cont comp rate is:  \" + str(rate)) \n",
    "\n",
    "# calculate the y corresponding to x\n",
    "# using the continuous compounding interest rate\n",
    "y = y1 * math.exp(rate * (x - x1))\n",
    "\n",
    "print(\"the AtMat at \" + str(x) + \" is \" + str(y))\n"
   ]
  },
  {
   "cell_type": "code",
   "execution_count": 53,
   "metadata": {},
   "outputs": [
    {
     "name": "stdout",
     "output_type": "stream",
     "text": [
      "Interpolated y: 1.1536897329871667\n"
     ]
    }
   ],
   "source": [
    "# Example exp_interp usage\n",
    "\n",
    "from zero_curve import exp_interp\n",
    "\n",
    "xs = [0, 1, 2]\n",
    "ys = [1, 1.1, 1.21]\n",
    "x = 1.5\n",
    "\n",
    "interpolated_y = exp_interp(xs, ys, x)\n",
    "print(\"Interpolated y:\", interpolated_y)"
   ]
  }
 ],
 "metadata": {
  "kernelspec": {
   "display_name": "Python 3",
   "language": "python",
   "name": "python3"
  },
  "language_info": {
   "codemirror_mode": {
    "name": "ipython",
    "version": 3
   },
   "file_extension": ".py",
   "mimetype": "text/x-python",
   "name": "python",
   "nbconvert_exporter": "python",
   "pygments_lexer": "ipython3",
   "version": "3.12.1"
  }
 },
 "nbformat": 4,
 "nbformat_minor": 2
}
