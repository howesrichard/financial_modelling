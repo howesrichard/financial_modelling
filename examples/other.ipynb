{
 "cells": [
  {
   "cell_type": "code",
   "execution_count": 1,
   "metadata": {},
   "outputs": [
    {
     "name": "stdout",
     "output_type": "stream",
     "text": [
      "   Numbers\n",
      "0       22\n",
      "1       70\n",
      "2       60\n",
      "3       39\n",
      "4       51\n",
      "5       31\n",
      "6      100\n",
      "7       26\n"
     ]
    }
   ],
   "source": [
    "import pandas as pd\n",
    "import random\n",
    "\n",
    "# Create a list of 8 random numbers\n",
    "numbers = [random.randint(1, 100) for i in range(8)]\n",
    "\n",
    "# Create a pandas DataFrame from the list of numbers\n",
    "df = pd.DataFrame({'Numbers': numbers})\n",
    "\n",
    "# Print the DataFrame\n",
    "print(df)\n"
   ]
  },
  {
   "cell_type": "code",
   "execution_count": 2,
   "metadata": {},
   "outputs": [
    {
     "name": "stdout",
     "output_type": "stream",
     "text": [
      "[2, 48, 9, 69, 98, 35, 6, 12, 53, 73, 18, 5, 2, 43, 5, 61, 2, 14, 33, 35, 59, 77, 18, 45, 88, 85, 56, 36, 66, 35, 52, 91, 47, 3, 77, 27, 57, 6, 75, 37, 64, 27, 51, 27, 99, 56, 91, 72, 81, 87, 63, 51, 29, 68, 53, 71, 28, 7, 44, 55, 6, 29, 92, 59, 100, 83, 12, 99, 67, 99, 55, 17, 21, 13, 91, 42, 69, 12, 80, 25, 65, 39, 71, 72, 46, 83, 36, 36, 10, 38, 57, 66, 47, 85, 54, 24, 40, 7, 53, 1, 6, 80, 99, 45, 71, 79, 96, 39, 39, 51, 99, 76, 13, 6, 86, 51, 97, 50, 65, 82, 59, 71, 25, 91, 77, 87, 50, 61, 51, 53, 61, 82, 58, 23, 16, 92, 42, 67, 79, 22, 26, 58, 19, 88, 80, 32, 42, 68, 11, 2, 13, 67, 14, 4, 89, 37, 18, 38, 69, 94, 21, 76, 49, 24, 42, 77, 29, 84]\n"
     ]
    }
   ],
   "source": [
    "# create a list of 168 random numbers\n",
    "numbers = [random.randint(1, 100) for i in range(168)]\n",
    "print(numbers)\n"
   ]
  },
  {
   "cell_type": "code",
   "execution_count": 3,
   "metadata": {},
   "outputs": [
    {
     "name": "stdout",
     "output_type": "stream",
     "text": [
      "Sentiment(polarity=0.6, subjectivity=1.0)\n"
     ]
    }
   ],
   "source": [
    "# use textblob to get the sentiment of \"my mum is great\"\n",
    "from textblob import TextBlob\n",
    "\n",
    "text = 'it is a nice day today'\n",
    "blob = TextBlob(text)\n",
    "print(blob.sentiment)\n"
   ]
  }
 ],
 "metadata": {
  "kernelspec": {
   "display_name": "Python 3",
   "language": "python",
   "name": "python3"
  },
  "language_info": {
   "codemirror_mode": {
    "name": "ipython",
    "version": 3
   },
   "file_extension": ".py",
   "mimetype": "text/x-python",
   "name": "python",
   "nbconvert_exporter": "python",
   "pygments_lexer": "ipython3",
   "version": "3.12.1"
  }
 },
 "nbformat": 4,
 "nbformat_minor": 2
}
